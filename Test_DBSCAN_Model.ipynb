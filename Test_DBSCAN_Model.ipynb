{
 "cells": [
  {
   "cell_type": "code",
   "execution_count": 4,
   "metadata": {},
   "outputs": [],
   "source": [
    "import pandas as pd\n",
    "import numpy as np\n",
    "from sklearn.cluster import DBSCAN\n",
    "from sklearn.preprocessing import StandardScaler\n",
    "from sklearn.neighbors import NearestNeighbors\n",
    "from matplotlib import pyplot as plt"
   ]
  },
  {
   "cell_type": "code",
   "execution_count": 5,
   "metadata": {},
   "outputs": [],
   "source": [
    "#Open File\n",
    "_df = pd.read_excel(\"./input/demo_input.xlsx\")\n",
    "\n",
    "selection = _df['Location'].isnull() | _df['latitude'].isnull() | _df['longitude'].isnull()\n",
    "_df = _df[~selection].copy().reset_index().drop(columns='index')\n",
    "\n",
    "data = _df[['latitude', 'longitude']].values.tolist()"
   ]
  },
  {
   "cell_type": "code",
   "execution_count": 6,
   "metadata": {},
   "outputs": [
    {
     "data": {
      "text/plain": [
       "[<matplotlib.lines.Line2D at 0x29d88d510>]"
      ]
     },
     "execution_count": 6,
     "metadata": {},
     "output_type": "execute_result"
    },
    {
     "data": {
      "image/png": "[encoded data removed]",
      "text/plain": [
       "<Figure size 432x288 with 1 Axes>"
      ]
     },
     "metadata": {
      "needs_background": "light"
     },
     "output_type": "display_data"
    }
   ],
   "source": [
    "neigh = NearestNeighbors(n_neighbors=2)\n",
    "nbrs = neigh.fit(data)\n",
    "distances, indices = nbrs.kneighbors(data)\n",
    "\n",
    "distances = np.sort(distances, axis=0)\n",
    "distances = distances[:,1]\n",
    "plt.plot(distances)"
   ]
  },
  {
   "cell_type": "code",
   "execution_count": 7,
   "metadata": {},
   "outputs": [],
   "source": [
    "def name_group(x):\n",
    "    if x == -1:\n",
    "        return \"NO Group\"\n",
    "    else:\n",
    "        return \"Group - \" + str(x)"
   ]
  },
  {
   "cell_type": "code",
   "execution_count": 14,
   "metadata": {},
   "outputs": [
    {
     "data": {
      "text/html": [
       "<div>\n",
       "<style scoped>\n",
       "    .dataframe tbody tr th:only-of-type {\n",
       "        vertical-align: middle;\n",
       "    }\n",
       "\n",
       "    .dataframe tbody tr th {\n",
       "        vertical-align: top;\n",
       "    }\n",
       "\n",
       "    .dataframe thead th {\n",
       "        text-align: right;\n",
       "    }\n",
       "</style>\n",
       "<table border=\"1\" class=\"dataframe\">\n",
       "  <thead>\n",
       "    <tr style=\"text-align: right;\">\n",
       "      <th></th>\n",
       "      <th>Location</th>\n",
       "      <th>latitude</th>\n",
       "      <th>longitude</th>\n",
       "      <th>Group</th>\n",
       "    </tr>\n",
       "  </thead>\n",
       "  <tbody>\n",
       "    <tr>\n",
       "      <th>0</th>\n",
       "      <td>Location 1</td>\n",
       "      <td>53.547874</td>\n",
       "      <td>-2.195631</td>\n",
       "      <td>Group - 0</td>\n",
       "    </tr>\n",
       "    <tr>\n",
       "      <th>1</th>\n",
       "      <td>Location 2</td>\n",
       "      <td>51.182814</td>\n",
       "      <td>-0.127771</td>\n",
       "      <td>Group - 1</td>\n",
       "    </tr>\n",
       "    <tr>\n",
       "      <th>2</th>\n",
       "      <td>Location 3</td>\n",
       "      <td>53.539492</td>\n",
       "      <td>-2.169141</td>\n",
       "      <td>Group - 0</td>\n",
       "    </tr>\n",
       "    <tr>\n",
       "      <th>3</th>\n",
       "      <td>Location 4</td>\n",
       "      <td>53.451990</td>\n",
       "      <td>-2.766049</td>\n",
       "      <td>Group - 0</td>\n",
       "    </tr>\n",
       "    <tr>\n",
       "      <th>4</th>\n",
       "      <td>Location 5</td>\n",
       "      <td>53.536908</td>\n",
       "      <td>-1.041846</td>\n",
       "      <td>Group - 2</td>\n",
       "    </tr>\n",
       "  </tbody>\n",
       "</table>\n",
       "</div>"
      ],
      "text/plain": [
       "     Location   latitude  longitude      Group\n",
       "0  Location 1  53.547874  -2.195631  Group - 0\n",
       "1  Location 2  51.182814  -0.127771  Group - 1\n",
       "2  Location 3  53.539492  -2.169141  Group - 0\n",
       "3  Location 4  53.451990  -2.766049  Group - 0\n",
       "4  Location 5  53.536908  -1.041846  Group - 2"
      ]
     },
     "execution_count": 14,
     "metadata": {},
     "output_type": "execute_result"
    }
   ],
   "source": [
    "# Standardize the data\n",
    "scaler = StandardScaler()\n",
    "data_scaled = scaler.fit_transform(data)\n",
    "\n",
    "# Apply DBSCAN clustering\n",
    "epsilon = 0.3  # Distance threshold to define the neighborhood\n",
    "min_samples = 5  # Minimum number of samples in a cluster\n",
    "dbscan = DBSCAN(eps=epsilon, min_samples=min_samples)\n",
    "clusters = dbscan.fit_predict(data_scaled)\n",
    "_df['Group'] = clusters\n",
    "#-1 means site cannot be grouped.\n",
    "_df['Group'] = _df['Group'].apply(name_group)\n",
    "\n",
    "selection = _df['Group'] == \"NO Group\"\n",
    "_df.loc[selection, 'Group'] = \"NO Group - \" + _df.loc[selection, 'Location'].astype(str)\n",
    "\n",
    "_df.head(5)"
   ]
  },
  {
   "cell_type": "code",
   "execution_count": 15,
   "metadata": {},
   "outputs": [
    {
     "name": "stdout",
     "output_type": "stream",
     "text": [
      "Group - 1                  32\n",
      "Group - 0                  29\n",
      "Group - 2                  18\n",
      "NO Group - Location 96      1\n",
      "NO Group - Location 71      1\n",
      "NO Group - Location 72      1\n",
      "NO Group - Location 74      1\n",
      "NO Group - Location 77      1\n",
      "NO Group - Location 79      1\n",
      "NO Group - Location 83      1\n",
      "NO Group - Location 89      1\n",
      "NO Group - Location 93      1\n",
      "NO Group - Location 95      1\n",
      "NO Group - Location 97      1\n",
      "NO Group - Location 116     1\n",
      "NO Group - Location 67      1\n",
      "NO Group - Location 100     1\n",
      "NO Group - Location 103     1\n",
      "NO Group - Location 108     1\n",
      "NO Group - Location 109     1\n",
      "NO Group - Location 111     1\n",
      "NO Group - Location 113     1\n",
      "NO Group - Location 114     1\n",
      "NO Group - Location 115     1\n",
      "NO Group - Location 98      1\n",
      "NO Group - Location 64      1\n",
      "NO Group - Location 65      1\n",
      "NO Group - Location 31      1\n",
      "NO Group - Location 6       1\n",
      "NO Group - Location 7       1\n",
      "NO Group - Location 11      1\n",
      "NO Group - Location 19      1\n",
      "NO Group - Location 21      1\n",
      "NO Group - Location 23      1\n",
      "NO Group - Location 25      1\n",
      "NO Group - Location 29      1\n",
      "NO Group - Location 30      1\n",
      "NO Group - Location 32      1\n",
      "NO Group - Location 61      1\n",
      "NO Group - Location 34      1\n",
      "NO Group - Location 37      1\n",
      "NO Group - Location 42      1\n",
      "NO Group - Location 50      1\n",
      "NO Group - Location 51      1\n",
      "NO Group - Location 55      1\n",
      "NO Group - Location 57      1\n",
      "NO Group - Location 58      1\n",
      "NO Group - Location 59      1\n",
      "NO Group - Location 123     1\n",
      "Name: Group, dtype: int64\n",
      "125\n"
     ]
    }
   ],
   "source": [
    "print(_df[\"Group\"].value_counts(dropna=False))\n",
    "print(_df[\"Group\"].value_counts(dropna=False).sum())"
   ]
  },
  {
   "cell_type": "code",
   "execution_count": null,
   "metadata": {},
   "outputs": [],
   "source": []
  }
 ],
 "metadata": {
  "kernelspec": {
   "display_name": "Python 3",
   "language": "python",
   "name": "python3"
  },
  "language_info": {
   "codemirror_mode": {
    "name": "ipython",
    "version": 3
   },
   "file_extension": ".py",
   "mimetype": "text/x-python",
   "name": "python",
   "nbconvert_exporter": "python",
   "pygments_lexer": "ipython3",
   "version": "3.10.6"
  },
  "orig_nbformat": 4
 },
 "nbformat": 4,
 "nbformat_minor": 2
}
